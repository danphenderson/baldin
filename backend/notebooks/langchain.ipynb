{
 "cells": [
  {
   "cell_type": "code",
   "execution_count": null,
   "metadata": {},
   "outputs": [],
   "source": [
    "# APP imports\n",
    "\n",
    "from app import schemas, models\n",
    "from app.core import db, conf \n",
    "\n",
    "# Standard library imports\n",
    "from pathlib import Path\n",
    "from pprint import pprint\n",
    "import os\n",
    "import json\n",
    "\n",
    "# Third party imports\n",
    "from langchain_openai import ChatOpenAI\n",
    "from langchain_core.prompts import ChatPromptTemplate\n",
    "from langchain_core.output_parsers import StrOutputParser\n",
    "from langchain_core.runnables import RunnablePassthrough\n",
    "\n",
    "# ENSURE THAT THE OPENAI_API_KEY IS SET and Define the model\n",
    "os.environ['OPENAI_API_KEY'] = conf.openai.API_KEY\n",
    "llm = ChatOpenAI(model='gpt-4')"
   ]
  },
  {
   "cell_type": "markdown",
   "metadata": {},
   "source": [
    "### Load Seed data\n",
    "\n",
    "Data is currently being loaded from the seeds directory.\n",
    "- **TODO**: Load data from database"
   ]
  },
  {
   "cell_type": "code",
   "execution_count": null,
   "metadata": {},
   "outputs": [],
   "source": [
    "seeds_dir = lead_docs_dir = Path(conf.settings.PUBLIC_ASSETS_DIR) / 'seeds'\n",
    "\n",
    "with open(seeds_dir / 'leads' / 'leads.json', 'r') as lead_docs_json:\n",
    "    lead_docs = json.load(lead_docs_json)\n",
    "\n",
    "with open(seeds_dir / 'user.json') as users_json:\n",
    "    user = json.load(users_json)"
   ]
  },
  {
   "cell_type": "markdown",
   "metadata": {},
   "source": [
    "### Enrich Seed data\n",
    "leads_schema"
   ]
  },
  {
   "cell_type": "markdown",
   "metadata": {},
   "source": [
    "### Cover Letter & Resume Generation\n",
    "\n",
    "Given a job lead and a user context, the system will generate a tailored cover letter and resume for the job based on the user's profile.\n",
    "\n",
    "```python\n",
    "def generate_cover_letter(user, lead):\n",
    "    ...\n",
    "\n",
    "def generate_resume(user, lead):\n",
    "    ...\n",
    "```\n",
    "\n",
    "We will begin with the cover letter generation."
   ]
  },
  {
   "cell_type": "markdown",
   "metadata": {},
   "source": []
  },
  {
   "cell_type": "code",
   "execution_count": null,
   "metadata": {},
   "outputs": [],
   "source": [
    "str_output_parser = StrOutputParser()\n",
    "\n",
    "cover_letter_generation_template = ChatPromptTemplate.from_messages(\n",
    "    [\n",
    "        (\"system\", \"You are a helpful AI assistant that helps users generate cover letters for job applications.\"),\n",
    "        (\"user\", \"Hello, tailor my resume based on my background: {profile}\"),\n",
    "        (\"system\", \"\"\"Great, please provide me with a job desctiption and I will generate a cover letter.\"\"\"),\n",
    "        (\"user\", \"Awesome! Here are the job details:\\n{job}\"),\n",
    "    ]\n",
    ")\n",
    "\n",
    "chain = cover_letter_generation_template | llm | str_output_parser"
   ]
  },
  {
   "cell_type": "code",
   "execution_count": null,
   "metadata": {},
   "outputs": [],
   "source": [
    "chain.invoke({\"profile\": user, \"job\" : lead_docs[0]})"
   ]
  },
  {
   "cell_type": "code",
   "execution_count": null,
   "metadata": {},
   "outputs": [],
   "source": [
    "def generate_cover_letter(profile, job, template) -> str:\n",
    "    generation_template = ChatPromptTemplate.from_messages(\n",
    "        [\n",
    "            (\n",
    "                \"system\",\n",
    "                \"You are a helpful AI assistant that helps users generate cover letters for job applications.\",\n",
    "            ),\n",
    "            (\"user\", \"Hello, tailor my resume based on my background: {profile}\"),\n",
    "            (\n",
    "                \"system\",\n",
    "                \"\"\"Great, please provide me with a job desctiption and I will generate a cover letter from this template: {template}.\"\"\",\n",
    "            ),\n",
    "            (\"user\", \"Awesome! Here are the job details:\\n{job}\"),\n",
    "        ]\n",
    "    )\n",
    "    chain = generation_template | llm | str_output_parser\n",
    "    return chain.invoke({\"profile\": profile, \"job\": job, \"template\": template})\n",
    "\n",
    "\n",
    "def generate_resume(profile, job, template) -> str:\n",
    "    generation_template = ChatPromptTemplate.from_messages(\n",
    "        [\n",
    "            (\n",
    "                \"system\",\n",
    "                \"You are a helpful AI assistant that helps users generate resumes for job applications.\",\n",
    "            ),\n",
    "            (\n",
    "                \"user\",\n",
    "                \"Hello, tailor my resume based on my background: {profile}\"),\n",
    "            (\n",
    "                \"system\",\n",
    "                \"Great, please provide me with a job desctiption and I will generate a resume from this template: {template}.\",\n",
    "            ),\n",
    "            (\n",
    "                \"user\",\n",
    "                \"Awesome! Here are the job details:\\n{job}\"\n",
    "            ),\n",
    "        ]\n",
    "    )\n",
    "    chain = generation_template | llm | str_output_parser\n",
    "    return chain.invoke({\"profile\": profile, \"job\": job, \"template\": template})\n"
   ]
  },
  {
   "cell_type": "markdown",
   "metadata": {},
   "source": [
    "\n",
    "Next, we integrate the generation function parameters and return types to use `app.schemas`  pydantic types."
   ]
  },
  {
   "cell_type": "code",
   "execution_count": null,
   "metadata": {},
   "outputs": [],
   "source": [
    "def generate_cover_letter(profile:schemas.UserProfileRead, lead:schemas.LeadRead, template: schemas.CoverLetterRead) -> str:\n",
    "    ...\n",
    "\n",
    "\n",
    "def generate_resume(profile:schemas.UserProfileRead, lead:schemas.LeadRead, template: schemas.ResumeRead) -> str:\n",
    "    ...\n",
    "\n",
    "print(schemas.UserProfileRead.model_json_schema())\n",
    "print(schemas.LeadRead.model_json_schema())"
   ]
  },
  {
   "cell_type": "markdown",
   "metadata": {},
   "source": [
    "### Lead Enrichment Chain\n",
    "\n",
    "The lead enrichment chain is a series of functions that enrich the lead data with additional information. The chain is defined as a list of functions that take a lead and return an enriched lead.\n",
    "\n",
    "The routes `/leads/enrich` and `/leads/enrich/{lead_id}` are for enriching a single lead and all leads, respectively.\n",
    "\n",
    "Enrichment off all leads is executed as a background task.\n",
    "\n"
   ]
  },
  {
   "cell_type": "code",
   "execution_count": null,
   "metadata": {},
   "outputs": [],
   "source": [
    "def enrich_lead(lead: schemas.LeadRead) -> schemas.LeadUpdate:\n",
    "    ..."
   ]
  },
  {
   "cell_type": "markdown",
   "metadata": {},
   "source": []
  }
 ],
 "metadata": {
  "kernelspec": {
   "display_name": ".venv",
   "language": "python",
   "name": "python3"
  },
  "language_info": {
   "codemirror_mode": {
    "name": "ipython",
    "version": 3
   },
   "file_extension": ".py",
   "mimetype": "text/x-python",
   "name": "python",
   "nbconvert_exporter": "python",
   "pygments_lexer": "ipython3",
   "version": "3.11.6"
  }
 },
 "nbformat": 4,
 "nbformat_minor": 2
}
